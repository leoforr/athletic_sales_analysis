{
  "cells": [
    {
      "cell_type": "code",
      "execution_count": null,
      "metadata": {
        "id": "3Q92bM1m7m2b"
      },
      "outputs": [],
      "source": [
        "# Import Libraries and Dependencies\n",
        "import pandas as pd"
      ]
    },
    {
      "cell_type": "markdown",
      "metadata": {
        "id": "nBfi6AKn7m2c"
      },
      "source": [
        "### 1. Combine and Clean the Data\n",
        "#### Import CSVs"
      ]
    },
    {
      "cell_type": "code",
      "execution_count": null,
      "metadata": {
        "id": "KiZ4Wi4m7m2c"
      },
      "outputs": [],
      "source": [
        "# Read the CSV files into DataFrames\n",
        "sales_2020 = pd.read_csv(\"Resources/athletic_sales_2020.csv\")\n",
        "sales_2021 = pd.read_csv(\"Resources/athletic_sales_2021.csv\")"
      ]
    },
    {
      "cell_type": "code",
      "execution_count": null,
      "metadata": {
        "id": "e2DaslP67m2d",
        "outputId": "1d0e7a34-6372-42b4-efe6-bfe6179940f4"
      },
      "outputs": [
        {
          "name": "stdout",
          "output_type": "stream",
          "text": [
            "2020 Sales Data:\n",
            "      retailer  retailer_id invoice_date     region         state  \\\n",
            "0  Foot Locker      1185732       1/1/20  Northeast      New York   \n",
            "1  Foot Locker      1185732       1/1/20  Northeast  Pennsylvania   \n",
            "2  Foot Locker      1185732       1/1/20  Northeast  Pennsylvania   \n",
            "3  Foot Locker      1185732       1/1/20  Northeast      New York   \n",
            "4  Foot Locker      1185732       1/1/20  Northeast  Pennsylvania   \n",
            "\n",
            "           city                product  price_per_unit  units_sold  \\\n",
            "0      New York  Men's Street Footwear              50        1200   \n",
            "1  Philadelphia        Women's Apparel              68          83   \n",
            "2  Philadelphia        Women's Apparel              75         275   \n",
            "3      New York  Men's Street Footwear              34         384   \n",
            "4  Philadelphia        Women's Apparel              53          83   \n",
            "\n",
            "   total_sales  operating_profit sales_method  \n",
            "0       600000         300000.00     In-store  \n",
            "1         5644           2426.92       Online  \n",
            "2       206250          61875.00       Outlet  \n",
            "3        13056           6789.12       Outlet  \n",
            "4         4399           1407.68       Outlet  \n"
          ]
        }
      ],
      "source": [
        "# Display the 2020 sales DataFrame\n",
        "print(\"2020 Sales Data:\")\n",
        "print(sales_2020.head())"
      ]
    },
    {
      "cell_type": "code",
      "execution_count": null,
      "metadata": {
        "id": "jhGrzBCN7m2d",
        "outputId": "d0bda441-79bf-4c20-dc6a-b86383a594b9"
      },
      "outputs": [
        {
          "name": "stdout",
          "output_type": "stream",
          "text": [
            "2020 Sales Data:\n",
            "      retailer  retailer_id invoice_date     region         state  \\\n",
            "0  Foot Locker      1185732       1/1/20  Northeast      New York   \n",
            "1  Foot Locker      1185732       1/1/20  Northeast  Pennsylvania   \n",
            "2  Foot Locker      1185732       1/1/20  Northeast  Pennsylvania   \n",
            "3  Foot Locker      1185732       1/1/20  Northeast      New York   \n",
            "4  Foot Locker      1185732       1/1/20  Northeast  Pennsylvania   \n",
            "\n",
            "           city                product  price_per_unit  units_sold  \\\n",
            "0      New York  Men's Street Footwear              50        1200   \n",
            "1  Philadelphia        Women's Apparel              68          83   \n",
            "2  Philadelphia        Women's Apparel              75         275   \n",
            "3      New York  Men's Street Footwear              34         384   \n",
            "4  Philadelphia        Women's Apparel              53          83   \n",
            "\n",
            "   total_sales  operating_profit sales_method  \n",
            "0       600000         300000.00     In-store  \n",
            "1         5644           2426.92       Online  \n",
            "2       206250          61875.00       Outlet  \n",
            "3        13056           6789.12       Outlet  \n",
            "4         4399           1407.68       Outlet  \n"
          ]
        }
      ],
      "source": [
        "# Display the 2021 sales DataFrame\n",
        "print(\"2020 Sales Data:\")\n",
        "print(sales_2020.head())"
      ]
    },
    {
      "cell_type": "markdown",
      "metadata": {
        "id": "k6O-UvPD7m2d"
      },
      "source": [
        "#### Check the data types of each DataFrame"
      ]
    },
    {
      "cell_type": "code",
      "execution_count": null,
      "metadata": {
        "id": "w3cXKsyi7m2d"
      },
      "outputs": [],
      "source": [
        "# Combine the DataFrames using an inner join\n",
        "combined_sales = pd.concat([sales_2020, sales_2021], ignore_index=True)\n"
      ]
    },
    {
      "cell_type": "code",
      "execution_count": null,
      "metadata": {
        "id": "XCucPNUm7m2d",
        "outputId": "518db053-80c2-4638-9555-88511562a8c7"
      },
      "outputs": [
        {
          "name": "stdout",
          "output_type": "stream",
          "text": [
            "\n",
            "2021 Sales Data Types:\n",
            "retailer             object\n",
            "retailer_id           int64\n",
            "invoice_date         object\n",
            "region               object\n",
            "state                object\n",
            "city                 object\n",
            "product              object\n",
            "price_per_unit        int64\n",
            "units_sold            int64\n",
            "total_sales           int64\n",
            "operating_profit    float64\n",
            "sales_method         object\n",
            "dtype: object\n"
          ]
        }
      ],
      "source": [
        "# Check the 2021 sales data types.\n",
        "print(\"\\n2021 Sales Data Types:\")\n",
        "print(sales_2021.dtypes)"
      ]
    },
    {
      "cell_type": "markdown",
      "metadata": {
        "id": "7LaZeQj-7m2d"
      },
      "source": [
        "#### Combine the sales data by rows."
      ]
    },
    {
      "cell_type": "code",
      "execution_count": null,
      "metadata": {
        "id": "tlsHh-mv7m2d"
      },
      "outputs": [],
      "source": [
        "# Combine the 2020 and 2021 sales DataFrames on the rows and reset the index.\n",
        "combined_sales.reset_index(drop=True, inplace=True)"
      ]
    },
    {
      "cell_type": "code",
      "execution_count": null,
      "metadata": {
        "id": "sgblnyST7m2d",
        "outputId": "2d624df9-0393-45db-d1a0-0d55ac0e3fd6"
      },
      "outputs": [
        {
          "name": "stdout",
          "output_type": "stream",
          "text": [
            "\n",
            "Null Values Check:\n",
            "retailer            0\n",
            "retailer_id         0\n",
            "invoice_date        0\n",
            "region              0\n",
            "state               0\n",
            "city                0\n",
            "product             0\n",
            "price_per_unit      0\n",
            "units_sold          0\n",
            "total_sales         0\n",
            "operating_profit    0\n",
            "sales_method        0\n",
            "dtype: int64\n"
          ]
        }
      ],
      "source": [
        "# Check if any values are null.\n",
        "print(\"\\nNull Values Check:\")\n",
        "print(combined_sales.isnull().sum())"
      ]
    },
    {
      "cell_type": "code",
      "execution_count": null,
      "metadata": {
        "id": "omETqAfi7m2e",
        "outputId": "c25ab11a-f016-4390-8f5c-53768ffdcd64"
      },
      "outputs": [
        {
          "name": "stdout",
          "output_type": "stream",
          "text": [
            "\n",
            "Data Types Check:\n",
            "retailer             object\n",
            "retailer_id           int64\n",
            "invoice_date         object\n",
            "region               object\n",
            "state                object\n",
            "city                 object\n",
            "product              object\n",
            "price_per_unit        int64\n",
            "units_sold            int64\n",
            "total_sales           int64\n",
            "operating_profit    float64\n",
            "sales_method         object\n",
            "dtype: object\n"
          ]
        }
      ],
      "source": [
        "# Check the data type of each column\n",
        "print(\"\\nData Types Check:\")\n",
        "print(combined_sales.dtypes)"
      ]
    },
    {
      "cell_type": "code",
      "execution_count": null,
      "metadata": {
        "id": "k6Mg0AkU7m2e"
      },
      "outputs": [],
      "source": [
        "# Convert the \"invoice_date\" to a datetime datatype\n",
        "combined_sales['invoice_date'] = pd.to_datetime(combined_sales['invoice_date'], format='%m/%d/%y')"
      ]
    },
    {
      "cell_type": "code",
      "execution_count": null,
      "metadata": {
        "id": "01pj45h87m2e",
        "outputId": "003b8c3c-12cc-4d64-d5ff-3b2f7ee7161b"
      },
      "outputs": [
        {
          "name": "stdout",
          "output_type": "stream",
          "text": [
            "\n",
            "Invoice Date Data Type Check:\n",
            "datetime64[ns]\n"
          ]
        }
      ],
      "source": [
        "# Confirm that the \"invoice_date\" data type has been changed.\n",
        "print(\"\\nInvoice Date Data Type Check:\")\n",
        "print(combined_sales.dtypes['invoice_date'])"
      ]
    },
    {
      "cell_type": "markdown",
      "metadata": {
        "id": "WTymHqNa7m2e"
      },
      "source": [
        "### 2. Determine which Region Sold the Most Products"
      ]
    },
    {
      "cell_type": "markdown",
      "metadata": {
        "id": "IwxoqfXD7m2e"
      },
      "source": [
        "#### Using `groupby`"
      ]
    },
    {
      "cell_type": "code",
      "execution_count": null,
      "metadata": {
        "id": "MAjVjPKQ7m2e",
        "outputId": "3bc23a4a-9331-460d-afd1-31b0d6bdc26a"
      },
      "outputs": [
        {
          "name": "stdout",
          "output_type": "stream",
          "text": [
            "\n",
            "Top 5 Regions with Most Products Sold:\n",
            "                                    Total_Products_Sold\n",
            "region    state      city                              \n",
            "Northeast New York   New York                    111954\n",
            "South     Texas      Houston                      90322\n",
            "West      California San Francisco                85478\n",
            "                     Los Angeles                  76384\n",
            "Southeast Florida    Miami                        73135\n"
          ]
        }
      ],
      "source": [
        "# Show the number products sold for region, state, and city.\n",
        "# Rename the sum to \"Total_Products_Sold\".\n",
        "sales_by_location = combined_sales.groupby(['region', 'state', 'city']).agg(Total_Products_Sold=('units_sold', 'sum'))\n",
        "\n",
        "# Show the top 5 results.\n",
        "print(\"\\nTop 5 Regions with Most Products Sold:\")\n",
        "print(sales_by_location.sort_values(by='Total_Products_Sold', ascending=False).head())"
      ]
    },
    {
      "cell_type": "markdown",
      "metadata": {
        "id": "QGCcB9Ql7m2e"
      },
      "source": [
        "#### Using `pivot_table`"
      ]
    },
    {
      "cell_type": "code",
      "execution_count": null,
      "metadata": {
        "id": "YyDN207R7m2e",
        "outputId": "9f280d22-cf2a-4515-e191-8200657db70b"
      },
      "outputs": [
        {
          "name": "stdout",
          "output_type": "stream",
          "text": [
            "\n",
            "Top 5 Regions with Most Products Sold (Pivot Table):\n",
            "                                    Total_Products_Sold\n",
            "region    state      city                              \n",
            "Northeast New York   New York                    111954\n",
            "South     Texas      Houston                      90322\n",
            "West      California San Francisco                85478\n",
            "                     Los Angeles                  76384\n",
            "Southeast Florida    Miami                        73135\n"
          ]
        }
      ],
      "source": [
        "# Show the number products sold for region, state, and city.\n",
        "sales_pivot = pd.pivot_table(combined_sales, values='units_sold', index=['region', 'state', 'city'], aggfunc='sum')\n",
        "\n",
        "\n",
        "# Rename the \"units_sold\" column to \"Total_Products_Sold\"\n",
        "sales_pivot.rename(columns={'units_sold': 'Total_Products_Sold'}, inplace=True)\n",
        "\n",
        "\n",
        "# Show the top 5 results.\n",
        "print(\"\\nTop 5 Regions with Most Products Sold (Pivot Table):\")\n",
        "print(sales_pivot.sort_values(by='Total_Products_Sold', ascending=False).head())\n"
      ]
    },
    {
      "cell_type": "markdown",
      "metadata": {
        "id": "K-YCuhEK7m2e"
      },
      "source": [
        "### 3. Determine which Region had the Most Sales"
      ]
    },
    {
      "cell_type": "markdown",
      "metadata": {
        "id": "TkRnMexO7m2e"
      },
      "source": [
        "#### Using `groupby`"
      ]
    },
    {
      "cell_type": "code",
      "execution_count": null,
      "metadata": {
        "id": "YY6Rafsc7m2e",
        "outputId": "5c7b4179-46fc-43db-cea4-6643548dd9b0"
      },
      "outputs": [
        {
          "name": "stdout",
          "output_type": "stream",
          "text": [
            "\n",
            "Top 5 Regions with Highest Sales:\n",
            "                                        Total_Sales\n",
            "region    state          city                      \n",
            "Northeast New York       New York          39801235\n",
            "West      California     San Francisco     33973228\n",
            "Southeast Florida        Miami             31600863\n",
            "          South Carolina Charleston        29285637\n",
            "          Florida        Orlando           27682851\n"
          ]
        }
      ],
      "source": [
        "# Show the total sales for the products sold for each region, state, and city.\n",
        "# Rename the \"total_sales\" column to \"Total Sales\"\n",
        "sales_by_region = combined_sales.groupby(['region', 'state', 'city']).agg(Total_Sales=('total_sales', 'sum'))\n",
        "\n",
        "\n",
        "# Show the top 5 results.\n",
        "print(\"\\nTop 5 Regions with Highest Sales:\")\n",
        "print(sales_by_region.sort_values(by='Total_Sales', ascending=False).head())"
      ]
    },
    {
      "cell_type": "markdown",
      "metadata": {
        "id": "Q3xvEn5c7m2e"
      },
      "source": [
        "#### Using `pivot_table`"
      ]
    },
    {
      "cell_type": "code",
      "execution_count": null,
      "metadata": {
        "id": "5z5jIo4T7m2e",
        "outputId": "5daf37ab-49f6-4248-f3be-f8b0081fdc8b"
      },
      "outputs": [
        {
          "name": "stdout",
          "output_type": "stream",
          "text": [
            "\n",
            "Top 5 Regions with Highest Sales (Pivot Table):\n",
            "                                        Total Sales\n",
            "region    state          city                      \n",
            "Northeast New York       New York          39801235\n",
            "West      California     San Francisco     33973228\n",
            "Southeast Florida        Miami             31600863\n",
            "          South Carolina Charleston        29285637\n",
            "          Florida        Orlando           27682851\n"
          ]
        }
      ],
      "source": [
        "# Show the total sales for the products sold for each region, state, and city.\n",
        "sales_pivot_sales = pd.pivot_table(combined_sales, values='total_sales', index=['region', 'state', 'city'], aggfunc='sum')\n",
        "\n",
        "\n",
        "# Optional: Rename the \"total_sales\" column to \"Total Sales\"\n",
        "sales_pivot_sales.rename(columns={'total_sales': 'Total Sales'}, inplace=True)\n",
        "\n",
        "\n",
        "# Show the top 5 results.\n",
        "print(\"\\nTop 5 Regions with Highest Sales (Pivot Table):\")\n",
        "print(sales_pivot_sales.sort_values(by='Total Sales', ascending=False).head())"
      ]
    },
    {
      "cell_type": "markdown",
      "metadata": {
        "tags": [],
        "id": "hElPjICW7m2e"
      },
      "source": [
        "### 4. Determine which Retailer had the Most Sales"
      ]
    },
    {
      "cell_type": "markdown",
      "metadata": {
        "id": "JWDx-0zu7m2e"
      },
      "source": [
        "#### Using `groupby`"
      ]
    },
    {
      "cell_type": "code",
      "execution_count": null,
      "metadata": {
        "id": "tsS4GLs47m2e",
        "outputId": "8214d025-44df-4ba1-8dd0-b9c95df752ba"
      },
      "outputs": [
        {
          "name": "stdout",
          "output_type": "stream",
          "text": [
            "\n",
            "Top 5 Retailers with Highest Sales:\n",
            "                                                    Total_Sales\n",
            "retailer    region    state          city                      \n",
            "West Gear   West      California     San Francisco     32794405\n",
            "Kohl's      West      California     Los Angeles       25127160\n",
            "Foot Locker Northeast New York       New York          25008568\n",
            "West Gear   West      Washington     Seattle           24862675\n",
            "Foot Locker Southeast South Carolina Charleston        24822280\n"
          ]
        }
      ],
      "source": [
        "# Show the total sales for the products sold for each retailer, region, state, and city.\n",
        "# Rename the \"total_sales\" column to \"Total Sales\"\n",
        "sales_by_retailer = combined_sales.groupby(['retailer', 'region', 'state', 'city']).agg(Total_Sales=('total_sales', 'sum'))\n",
        "\n",
        "# Show the top 5 results.\n",
        "print(\"\\nTop 5 Retailers with Highest Sales:\")\n",
        "print(sales_by_retailer.sort_values(by='Total_Sales', ascending=False).head())"
      ]
    },
    {
      "cell_type": "markdown",
      "metadata": {
        "id": "DXUHPGRv7m2f"
      },
      "source": [
        "#### Using `pivot_table`"
      ]
    },
    {
      "cell_type": "code",
      "execution_count": null,
      "metadata": {
        "id": "Fifh6AxN7m2f",
        "outputId": "cb23a390-74c3-4b0c-f990-c7c18c7c9e01"
      },
      "outputs": [
        {
          "name": "stdout",
          "output_type": "stream",
          "text": [
            "\n",
            "Top 5 Retailers with Highest Sales (Pivot Table):\n",
            "                                                    Total Sales\n",
            "retailer    region    state          city                      \n",
            "West Gear   West      California     San Francisco     32794405\n",
            "Kohl's      West      California     Los Angeles       25127160\n",
            "Foot Locker Northeast New York       New York          25008568\n",
            "West Gear   West      Washington     Seattle           24862675\n",
            "Foot Locker Southeast South Carolina Charleston        24822280\n"
          ]
        }
      ],
      "source": [
        "# Show the total sales for the products sold for each retailer, region, state, and city.\n",
        "sales_pivot_retailer = pd.pivot_table(combined_sales, values='total_sales', index=['retailer', 'region', 'state', 'city'], aggfunc='sum')\n",
        "\n",
        "\n",
        "# Optional: Rename the \"total_sales\" column to \"Total Sales\"\n",
        "sales_pivot_retailer.rename(columns={'total_sales': 'Total Sales'}, inplace=True)\n",
        "\n",
        "\n",
        "# Show the top 5 results.\n",
        "print(\"\\nTop 5 Retailers with Highest Sales (Pivot Table):\")\n",
        "print(sales_pivot_retailer.sort_values(by='Total Sales', ascending=False).head())"
      ]
    },
    {
      "cell_type": "markdown",
      "metadata": {
        "id": "iTYmThCM7m2f"
      },
      "source": [
        "### 5. Determine which Retailer Sold the Most Women's Athletic Footwear"
      ]
    },
    {
      "cell_type": "code",
      "execution_count": null,
      "metadata": {
        "id": "icEl4Dc27m2f"
      },
      "outputs": [],
      "source": [
        "# Filter the sales data to get the women's athletic footwear sales data.\n",
        "women_footwear_sales = combined_sales[combined_sales['product'].str.contains(\"Women's Athletic Footwear\")]\n"
      ]
    },
    {
      "cell_type": "markdown",
      "metadata": {
        "id": "4NJuBrRm7m2f"
      },
      "source": [
        "#### Using `groupby`"
      ]
    },
    {
      "cell_type": "code",
      "execution_count": null,
      "metadata": {
        "id": "S_9MXEHP7m2f",
        "outputId": "30a38450-4dde-4b12-9914-08fa6a8b0565"
      },
      "outputs": [
        {
          "name": "stdout",
          "output_type": "stream",
          "text": [
            "\n",
            "Top 5 Retailers with Most Women's Athletic Footwear Sales:\n",
            "                                                      Womens_Footwear_Units_Sold\n",
            "retailer      region    state          city                                     \n",
            "West Gear     West      California     San Francisco                       12107\n",
            "Foot Locker   Northeast New York       New York                            10996\n",
            "Kohl's        West      California     Los Angeles                         10826\n",
            "Foot Locker   Southeast South Carolina Charleston                           8814\n",
            "Sports Direct South     Texas          Dallas                               8790\n"
          ]
        }
      ],
      "source": [
        "# Show the total number of women's athletic footwear sold for each retailer, region, state, and city.\n",
        "# Rename the \"units_sold\" column to \"Womens_Footwear_Units_Sold\"\n",
        "women_footwear_sales_by_location = women_footwear_sales.groupby(['retailer', 'region', 'state', 'city']).agg(Womens_Footwear_Units_Sold=('units_sold', 'sum'))\n",
        "\n",
        "# Show the top 5 results.\n",
        "print(\"\\nTop 5 Retailers with Most Women's Athletic Footwear Sales:\")\n",
        "print(women_footwear_sales_by_location.sort_values(by='Womens_Footwear_Units_Sold', ascending=False).head())"
      ]
    },
    {
      "cell_type": "markdown",
      "metadata": {
        "id": "g-RQjwQP7m2f"
      },
      "source": [
        "#### Using `pivot_table`"
      ]
    },
    {
      "cell_type": "code",
      "execution_count": null,
      "metadata": {
        "id": "ZaPheJeu7m2f",
        "outputId": "9dce9141-942d-4031-e160-b22829a1a2e0"
      },
      "outputs": [
        {
          "name": "stdout",
          "output_type": "stream",
          "text": [
            "\n",
            "Top 5 Retailers with Most Women's Athletic Footwear Sales (Pivot Table):\n",
            "                                                      Womens_Footwear_Units_Sold\n",
            "retailer      region    state          city                                     \n",
            "West Gear     West      California     San Francisco                       12107\n",
            "Foot Locker   Northeast New York       New York                            10996\n",
            "Kohl's        West      California     Los Angeles                         10826\n",
            "Foot Locker   Southeast South Carolina Charleston                           8814\n",
            "Sports Direct South     Texas          Dallas                               8790\n"
          ]
        }
      ],
      "source": [
        "# Show the total number of women's athletic footwear sold for each retailer, region, state, and city.\n",
        "women_footwear_sales_pivot = pd.pivot_table(women_footwear_sales, values='units_sold', index=['retailer', 'region', 'state', 'city'], aggfunc='sum')\n",
        "\n",
        "\n",
        "# Rename the \"units_sold\" column to \"Womens_Footwear_Units_Sold\"\n",
        "women_footwear_sales_pivot.rename(columns={'units_sold': 'Womens_Footwear_Units_Sold'}, inplace=True)\n",
        "\n",
        "# Show the top 5 results.\n",
        "print(\"\\nTop 5 Retailers with Most Women's Athletic Footwear Sales (Pivot Table):\")\n",
        "print(women_footwear_sales_pivot.sort_values(by='Womens_Footwear_Units_Sold', ascending=False).head())"
      ]
    },
    {
      "cell_type": "markdown",
      "metadata": {
        "id": "IamvHhUU7m2f"
      },
      "source": [
        "### 5. Determine the Day with the Most Women's Athletic Footwear Sales"
      ]
    },
    {
      "cell_type": "code",
      "execution_count": null,
      "metadata": {
        "id": "Y79FHmnZ7m2f",
        "outputId": "ad513c46-0219-4ff6-928f-6d7bc79866a9"
      },
      "outputs": [
        {
          "name": "stdout",
          "output_type": "stream",
          "text": [
            "\n",
            "Women's Athletic Footwear Sales by Day:\n",
            "              Total Sales\n",
            "invoice_date             \n",
            "2020-01-04         402743\n",
            "2020-01-05         141801\n",
            "2020-01-11         129556\n",
            "2020-01-17         173013\n",
            "2020-01-22         388250\n",
            "...                   ...\n",
            "2021-12-22         200406\n",
            "2021-12-23         808022\n",
            "2021-12-24         190885\n",
            "2021-12-25         315175\n",
            "2021-12-30         167903\n",
            "\n",
            "[355 rows x 1 columns]\n"
          ]
        }
      ],
      "source": [
        "# Create a pivot table with the 'invoice_date' column is the index, and the \"total_sales\" as the values.\n",
        "women_footwear_sales_pivot_date = pd.pivot_table(women_footwear_sales, values='total_sales', index='invoice_date', aggfunc='sum')\n",
        "\n",
        "\n",
        "# Optional: Rename the \"total_sales\" column to \"Total Sales\"\n",
        "women_footwear_sales_pivot_date.rename(columns={'total_sales': 'Total Sales'}, inplace=True)\n",
        "\n",
        "\n",
        "# Show the table.\n",
        "print(\"\\nWomen's Athletic Footwear Sales by Day:\")\n",
        "print(women_footwear_sales_pivot_date)"
      ]
    },
    {
      "cell_type": "code",
      "execution_count": null,
      "metadata": {
        "id": "SbDPYeLY7m2f",
        "outputId": "74a9533f-d8d7-4613-8998-83636e52f3ca"
      },
      "outputs": [
        {
          "name": "stdout",
          "output_type": "stream",
          "text": [
            "\n",
            "Top 10 Days with Most Women's Athletic Footwear Sales:\n",
            "              Total Sales\n",
            "invoice_date             \n",
            "2021-07-16        1521825\n",
            "2021-12-16        1473497\n",
            "2021-06-17        1376988\n",
            "2021-08-17        1086294\n",
            "2021-07-23        1021806\n",
            "2021-11-17        1021145\n",
            "2021-12-09         915011\n",
            "2021-06-24         884238\n",
            "2021-07-09         869054\n",
            "2021-08-10         839120\n"
          ]
        }
      ],
      "source": [
        "# Resample the pivot table into daily bins, and get the total sales for each day.\n",
        "daily_sales = women_footwear_sales_pivot_date.resample('D').sum()\n",
        "\n",
        "\n",
        "# Sort the resampled pivot table in ascending order on \"Total Sales\".\n",
        "print(\"\\nTop 10 Days with Most Women's Athletic Footwear Sales:\")\n",
        "print(daily_sales.sort_values(by='Total Sales', ascending=False).head(10))"
      ]
    },
    {
      "cell_type": "markdown",
      "metadata": {
        "id": "rhmwetKv7m2f"
      },
      "source": [
        "### 6.  Determine the Week with the Most Women's Athletic Footwear Sales"
      ]
    },
    {
      "cell_type": "code",
      "execution_count": null,
      "metadata": {
        "id": "6dO2jIue7m2i",
        "outputId": "fdd1f14f-a4c7-4917-e6ca-611845f4e277"
      },
      "outputs": [
        {
          "name": "stdout",
          "output_type": "stream",
          "text": [
            "\n",
            "Top 10 Weeks with Most Women's Athletic Footwear Sales:\n",
            "              Total Sales\n",
            "invoice_date             \n",
            "2021-12-19        3098970\n",
            "2021-12-12        2922161\n",
            "2021-07-11        2835078\n",
            "2021-07-18        2801449\n",
            "2021-11-14        2531721\n",
            "2021-08-22        2491259\n",
            "2021-08-15        2463941\n",
            "2021-11-21        2449537\n",
            "2021-05-16        2422132\n",
            "2021-06-13        2358602\n"
          ]
        }
      ],
      "source": [
        "# Resample the pivot table into weekly bins, and get the total sales for each week.\n",
        "weekly_sales = women_footwear_sales_pivot_date.resample('W').sum()\n",
        "\n",
        "\n",
        "# Sort the resampled pivot table in ascending order on \"Total Sales\".\n",
        "print(\"\\nTop 10 Weeks with Most Women's Athletic Footwear Sales:\")\n",
        "print(weekly_sales.sort_values(by='Total Sales', ascending=False).head(10))"
      ]
    }
  ],
  "metadata": {
    "kernelspec": {
      "display_name": "Python 3 (ipykernel)",
      "language": "python",
      "name": "python3"
    },
    "language_info": {
      "codemirror_mode": {
        "name": "ipython",
        "version": 3
      },
      "file_extension": ".py",
      "mimetype": "text/x-python",
      "name": "python",
      "nbconvert_exporter": "python",
      "pygments_lexer": "ipython3",
      "version": "3.11.7"
    },
    "colab": {
      "provenance": []
    }
  },
  "nbformat": 4,
  "nbformat_minor": 0
}